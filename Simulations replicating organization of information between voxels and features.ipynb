{
 "cells": [
  {
   "cell_type": "code",
   "execution_count": 1,
   "id": "south-therapist",
   "metadata": {},
   "outputs": [],
   "source": [
    "from scipy.linalg import toeplitz\n",
    "import numpy as np\n",
    "from sklearn.model_selection import KFold\n",
    "from numpy.linalg import inv\n",
    "from scipy.stats import zscore\n",
    "import matplotlib.pyplot as plt\n",
    "import time\n",
    "np.random.seed(0)"
   ]
  },
  {
   "cell_type": "markdown",
   "id": "median-device",
   "metadata": {},
   "source": [
    "# Helpers"
   ]
  },
  {
   "cell_type": "code",
   "execution_count": 2,
   "id": "affecting-bathroom",
   "metadata": {},
   "outputs": [],
   "source": [
    "def toeplitz_cov(n):\n",
    "    cov = toeplitz(np.exp(-(np.arange(n*1.0))**2/n))\n",
    "    return cov"
   ]
  },
  {
   "cell_type": "code",
   "execution_count": 3,
   "id": "subjective-opposition",
   "metadata": {},
   "outputs": [],
   "source": [
    "def R2(Pred,Real):\n",
    "    SSres = np.mean((Real-Pred)**2,0)\n",
    "    SStot = np.var(Real,0)\n",
    "    return np.nan_to_num(1-SSres/SStot)\n",
    "\n",
    "def ridge(X,Y,lmbda):\n",
    "    return np.dot(inv(X.T.dot(X)+lmbda*np.eye(X.shape[1])),X.T.dot(Y))\n",
    "\n",
    "def ridge_by_lambda(X, Y, Xval, Yval, lambdas):\n",
    "    error = np.zeros((lambdas.shape[0],Y.shape[1]))\n",
    "    for idx,lmbda in enumerate(lambdas):\n",
    "        weights = ridge(X,Y,lmbda)\n",
    "        error[idx] = 1 - R2(np.dot(Xval,weights),Yval)\n",
    "    return error\n",
    "\n",
    "def cross_val_ridge(train_features, train_data, n_splits=10, lambdas=np.array([10**i for i in range(-6, 10)])):\n",
    "    n_voxels = train_data.shape[1]\n",
    "    n_lambdas = lambdas.shape[0]\n",
    "    n_feats = train_features.shape[1]\n",
    "    r_cv = np.zeros((n_lambdas, n_voxels))\n",
    "    \n",
    "    kf = KFold(n_splits=n_splits)\n",
    "    for icv, (trn, val) in enumerate(kf.split(train_data)):\n",
    "        cost = ridge_by_lambda(train_features[trn], train_data[trn], train_features[val], train_data[val], lambdas=lambdas)\n",
    "        r_cv += cost\n",
    "        \n",
    "    argmin_lambda = np.argmin(r_cv,axis = 0)\n",
    "    weights = np.zeros((n_feats,n_voxels))\n",
    "    for idx_lambda in range(lambdas.shape[0]):\n",
    "        idx_vox = argmin_lambda == idx_lambda\n",
    "        weights[:,idx_vox] = ridge(train_features, train_data[:,idx_vox],lambdas[idx_lambda])\n",
    "    min_lambdas = np.array([lambdas[i] for i in argmin_lambda])\n",
    "\n",
    "    return weights, min_lambdas"
   ]
  },
  {
   "cell_type": "code",
   "execution_count": 4,
   "id": "sunrise-minimum",
   "metadata": {},
   "outputs": [],
   "source": [
    "def corr(X,Y):\n",
    "    return np.mean(zscore(X)*zscore(Y),0)"
   ]
  },
  {
   "cell_type": "code",
   "execution_count": 5,
   "id": "geographic-committee",
   "metadata": {},
   "outputs": [],
   "source": [
    "def get_plot_ys(corrs, y_keys):\n",
    "    # Input: expects corrs to have repetition data stored in \n",
    "    # corrs['v1v2'][k] and/or corrs['v1p1'][k] and/or corrs['v2p1'][k] for k in y_keys.\n",
    "    # Output: ys and ys_std with computed means and stddevs for each k for easy error bar plotting.\n",
    "    ys, ys_std = {}, {}\n",
    "    for corr_type in corrs.keys(): # 'v1v2'/'v1p1'/'v2p1'\n",
    "        ys[corr_type], ys_std[corr_type] = [], []\n",
    "    \n",
    "    # Compute means and stddevs for easy error bar plotting\n",
    "    for k in y_keys:\n",
    "        for corr_type in corrs.keys(): # 'v1v2'/'v1p1'/'v2p1'\n",
    "            ys[corr_type].append(np.mean(np.array(corrs[corr_type][k])))\n",
    "            ys_std[corr_type].append(np.std(np.array(corrs[corr_type][k])))\n",
    "    return ys, ys_std"
   ]
  },
  {
   "cell_type": "markdown",
   "id": "identical-wells",
   "metadata": {},
   "source": [
    "### 1. Generate random features and weights"
   ]
  },
  {
   "cell_type": "code",
   "execution_count": 6,
   "id": "handy-savage",
   "metadata": {},
   "outputs": [],
   "source": [
    "def generate_features_and_weights(n, ms):\n",
    "    m1, m2, m3, m12 = ms\n",
    "    # Features\n",
    "    x1 = np.random.multivariate_normal(mean=np.zeros(m1), cov=toeplitz_cov(m1), size=(n,)) if m1>0 else np.array([]).reshape(n,0)\n",
    "    x2 = np.random.multivariate_normal(mean=np.zeros(m2), cov=toeplitz_cov(m2), size=(n,)) if m2>0 else np.array([]).reshape(n,0)\n",
    "    x3 = np.random.multivariate_normal(mean=np.zeros(m3), cov=toeplitz_cov(m3), size=(n,)) if m3>0 else np.array([]).reshape(n,0)\n",
    "    x12 = np.random.multivariate_normal(mean=np.zeros(m12), cov=toeplitz_cov(m12), size=(n,)) if m12>0 else np.array([]).reshape(n,0)\n",
    "    x = np.concatenate((x1, x2, x3, x12), axis=1) # x: (n, m1+m2+m3+m12)\n",
    "    \n",
    "    # Weights\n",
    "    w1 = np.random.rand(m1, 1)\n",
    "    w2 = np.random.rand(m2, 1)\n",
    "    w12 = np.random.rand(m12, 1)\n",
    "    return (x, x1, x2, x3, x12), (w1, w2, w12)"
   ]
  },
  {
   "cell_type": "markdown",
   "id": "liked-edinburgh",
   "metadata": {},
   "source": [
    "### 2. Generate voxel data"
   ]
  },
  {
   "cell_type": "code",
   "execution_count": 7,
   "id": "prostate-recommendation",
   "metadata": {},
   "outputs": [],
   "source": [
    "def generate_voxels(n, ms, xs, ws, eps_stds, use_shared_information):\n",
    "    # Initialize noise\n",
    "    eps_std1, eps_std2, eps_std12 = eps_stds\n",
    "    eps1 = np.random.normal(loc=0.0, scale=eps_std1, size=(n, 1))\n",
    "    eps2 = np.random.normal(loc=0.0, scale=eps_std2, size=(n, 1))\n",
    "    eps12 = np.random.normal(loc=0.0, scale=eps_std12, size=(n, 1))\n",
    "    \n",
    "    # Generate voxel data\n",
    "    _, x1, x2, _, x12 = xs\n",
    "    w1, w2, w12 = ws\n",
    "    m1, m2, _, m12 = ms\n",
    "    if use_shared_information:\n",
    "        v12 = np.dot(x12, w12) if (m12 > 0) else np.zeros((n,1))\n",
    "        v1 = zscore(np.dot(x1, w1) + v12) + eps1 + eps12 if (m1 > 0) else zscore(v12) + eps1 + eps12\n",
    "        v2 = zscore(np.dot(x2, w2) + v12) + eps2 + eps12 if (m2 > 0) else zscore(v12) + eps2 + eps12\n",
    "    else:\n",
    "        v12 = None\n",
    "        v1 = zscore(np.dot(x1, w1)) + eps1 if (m1 > 0) else eps1\n",
    "        v2 = zscore(np.dot(x2, w2)) + eps2 if (m2 > 0) else eps2\n",
    "    return (v1, v2, v12)"
   ]
  },
  {
   "cell_type": "markdown",
   "id": "cordless-amino",
   "metadata": {},
   "source": [
    "### 3. Combine everything to perform one experiment run"
   ]
  },
  {
   "cell_type": "code",
   "execution_count": 8,
   "id": "varied-consumer",
   "metadata": {},
   "outputs": [],
   "source": [
    "def perform_experiment(n, ms, eps_stds, use_shared_information):\n",
    "    # Generate features, weights, voxel data\n",
    "    xs, ws = generate_features_and_weights(n, ms)\n",
    "    vs = generate_voxels(n, ms, xs, ws, eps_stds, use_shared_information)\n",
    "\n",
    "    # Estimate weights using ridge\n",
    "    x = xs[0]\n",
    "    v1, v2 = vs[0], vs[1]\n",
    "    estimated_w1, lambdas1 = cross_val_ridge(x, v1)\n",
    "    estimated_w2, lambdas2 = cross_val_ridge(x, v2)\n",
    "    \n",
    "    # Compute predictions\n",
    "    p1 = np.dot(x, estimated_w1)\n",
    "    p2 = np.dot(x, estimated_w2)\n",
    "                \n",
    "    # Compute relevant correlations\n",
    "    corr_v1v2 = corr(v1, v2)\n",
    "    corr_v1p1 = corr(v1, p1)\n",
    "    corr_v2p1 = corr(v2, p1)\n",
    "    corr_v1p2 = corr(v1, p2)\n",
    "    corr_v2p2 = corr(v2, p2)\n",
    "    return corr_v1v2, corr_v1p1, corr_v2p1, corr_v1p2, corr_v2p2"
   ]
  },
  {
   "cell_type": "markdown",
   "id": "ancient-membrane",
   "metadata": {},
   "source": [
    "# Debug Runs"
   ]
  },
  {
   "cell_type": "code",
   "execution_count": null,
   "id": "rolled-charge",
   "metadata": {},
   "outputs": [],
   "source": [
    "# NOTE: This section is useful when you want to play around with parameter values, use the python debugger, etc.\n",
    "eps_std12 = 1.0\n",
    "m1, m2, m3, m12 = 3, 3, 4, 30\n",
    "all_eps_stds = [i*0.5 for i in range(7)] # only for eps_std1 and eps_std2\n",
    "n = 500 # no. of train samples\n",
    "m = 40 # total no. of features\n",
    "n_repetitions = 25\n",
    "use_shared_information = True\n",
    "\n",
    "corrs = {}\n",
    "corrs['v1v2'], corrs['v1p1'], corrs['v2p1'] = {}, {}, {}\n",
    "for eps_std1 in all_eps_stds:\n",
    "    s = time.time()\n",
    "    corrs['v1v2'][eps_std1], corrs['v1p1'][eps_std1], corrs['v2p1'][eps_std1] = {}, {}, {}\n",
    "    for eps_std2 in all_eps_stds:\n",
    "        corrs['v1v2'][eps_std1][eps_std2], corrs['v1p1'][eps_std1][eps_std2], corrs['v2p1'][eps_std1][eps_std2] = [], [], []\n",
    "        for i in range(n_repetitions):\n",
    "            ms = [m1, m2, m3, m12]\n",
    "            eps_stds = [eps_std1, eps_std2, eps_std12] # same standard deviation for all voxel noises\n",
    "            corr_v1v2, corr_v1p1, corr_v2p1,_,_ = perform_experiment(n, ms, eps_stds, use_shared_information)\n",
    "\n",
    "            corrs['v1v2'][eps_std1][eps_std2].append(corr_v1v2)\n",
    "            corrs['v1p1'][eps_std1][eps_std2].append(corr_v1p1)\n",
    "            corrs['v2p1'][eps_std1][eps_std2].append(corr_v2p1)\n",
    "    e = time.time()"
   ]
  },
  {
   "cell_type": "code",
   "execution_count": null,
   "id": "enclosed-oriental",
   "metadata": {},
   "outputs": [],
   "source": [
    "# Plot contour plots\n",
    "X, Y, Z_v1v2, Z_p1v2 = np.zeros((7,7)), np.zeros((7,7)), np.zeros((7,7)), np.zeros((7,7))\n",
    "for i, eps_stdx in enumerate(all_eps_stds):\n",
    "    for j, eps_stdy in enumerate(all_eps_stds):\n",
    "        X[i][j] = eps_stdx\n",
    "        Y[i][j] = eps_stdy\n",
    "        Z_v1v2[i][j] = np.mean(np.array(corrs['v1v2'][eps_stdx][eps_stdy]))\n",
    "        Z_p1v2[i][j] = np.mean(np.array(corrs['v2p1'][eps_stdx][eps_stdy]))\n",
    "\n",
    "plt.contourf(X, Y, Z_v1v2, cmap='RdGy')\n",
    "plt.title('cross-voxel correlation vs.\\nv1 noise, v2 noise')\n",
    "plt.xlabel('stddev of noise for v1')\n",
    "plt.ylabel('stddev of noise for v2')\n",
    "plt.colorbar()\n",
    "plt.show()\n",
    "\n",
    "plt.contourf(X, Y, Z_p1v2, cmap='RdGy')\n",
    "plt.title('cross-voxel predictivity vs.\\nv1 noise, v2 noise')\n",
    "plt.xlabel('stddev of noise for v1')\n",
    "plt.ylabel('stddev of noise for v2')\n",
    "plt.colorbar()\n",
    "plt.show()"
   ]
  },
  {
   "cell_type": "markdown",
   "id": "preceding-carrier",
   "metadata": {},
   "source": [
    "# How model performance and generalization vary with different noise levels"
   ]
  },
  {
   "cell_type": "code",
   "execution_count": null,
   "id": "adaptive-chorus",
   "metadata": {},
   "outputs": [],
   "source": [
    "#######################\n",
    "# Experiment Settings #\n",
    "#######################\n",
    "use_shared_information = True # TOGGLE: [True, False]\n",
    "\n",
    "n = 500 # no. of train samples\n",
    "m1, m2, m3, m12 = 10, 10, 10, 10 # no. of features\n",
    "n_repetitions = 100\n",
    "all_eps_stds = [i*0.25 for i in range(21)]\n",
    "\n",
    "corrs = {}\n",
    "corrs['v1p1'], corrs['v2p1'] = {}, {}\n",
    "\n",
    "################################################\n",
    "# Run multiple simulations at each noise level #\n",
    "################################################\n",
    "for eps_std in all_eps_stds:\n",
    "    print(\"eps_std={}\".format(eps_std))\n",
    "    corrs['v1p1'][eps_std], corrs['v2p1'][eps_std] = [], []\n",
    "    for i in range(n_repetitions):\n",
    "        ms = [m1, m2, m3, m12]\n",
    "        eps_stds = [eps_std, eps_std, eps_std] # same noise level for all voxels\n",
    "        _, corr_v1p1, corr_v2p1,_,_ = perform_experiment(n, ms, eps_stds, use_shared_information)\n",
    "\n",
    "        corrs['v1p1'][eps_std].append(corr_v1p1)\n",
    "        corrs['v2p1'][eps_std].append(corr_v2p1)"
   ]
  },
  {
   "cell_type": "code",
   "execution_count": null,
   "id": "limited-cache",
   "metadata": {},
   "outputs": [],
   "source": [
    "ys, ys_std = get_plot_ys(corrs, all_eps_stds)\n",
    "plt.errorbar(all_eps_stds, ys['v1p1'], yerr=ys_std['v1p1'], fmt='o', label=\"corrs_v1p1\")\n",
    "plt.errorbar(all_eps_stds, ys['v2p1'], yerr=ys_std['v2p1'], fmt='o', label=\"corrs_v2p1\")\n",
    "plt.xlabel('stddev of noise')\n",
    "plt.ylabel('corr(prediction, voxel)')\n",
    "plt.ylim([-0.2, 1.2])\n",
    "plt.title('[No shared information]\\nsame-voxel & cross-voxel predictivity vs. noise')\n",
    "plt.legend()\n",
    "plt.savefig('spatial_generalization_experiments/plots/predictivity_generalization-vary_all_eps-m12_0.png')"
   ]
  },
  {
   "cell_type": "code",
   "execution_count": null,
   "id": "opened-science",
   "metadata": {},
   "outputs": [],
   "source": [
    "np.save('spatial_generalization_experiments/corrs/predictivity_generalization-vary_all_eps-m12_0.npy', corrs)"
   ]
  },
  {
   "cell_type": "code",
   "execution_count": null,
   "id": "muslim-following",
   "metadata": {},
   "outputs": [],
   "source": [
    "ys, ys_std = get_plot_ys(corrs, all_eps_stds)\n",
    "plt.errorbar(all_eps_stds, ys['v1p1'], yerr=ys_std['v1p1'], fmt='o', label=\"corrs_v1p1\")\n",
    "plt.errorbar(all_eps_stds, ys['v2p1'], yerr=ys_std['v2p1'], fmt='o', label=\"corrs_v2p1\")\n",
    "plt.xlabel('stddev of noise')\n",
    "plt.ylabel('corr(prediction, voxel)')\n",
    "plt.ylim([-0.2, 1.2])\n",
    "plt.title('[With shared information]\\nsame-voxel & cross-voxel predictivity vs. noise')\n",
    "plt.legend()\n",
    "plt.savefig('spatial_generalization_experiments/plots/predictivity_generalization-vary_all_eps-m12_0.png')"
   ]
  },
  {
   "cell_type": "code",
   "execution_count": null,
   "id": "sized-posting",
   "metadata": {},
   "outputs": [],
   "source": [
    "np.save('spatial_generalization_experiments/corrs/predictivity_generalization-vary_all_eps-m12_0.npy', corrs)"
   ]
  },
  {
   "cell_type": "markdown",
   "id": "close-vancouver",
   "metadata": {},
   "source": [
    "# How model performance and generalization vary with proportion of shared information (all noise levels fixed equally)"
   ]
  },
  {
   "cell_type": "code",
   "execution_count": null,
   "id": "productive-advancement",
   "metadata": {},
   "outputs": [],
   "source": [
    "#######################\n",
    "# Experiment Settings #\n",
    "#######################\n",
    "eps_std = 5. # TOGGLE: [0., 1., 2., 3., 4., 5.]\n",
    "m = 40 # total no. of features\n",
    "all_m12s = [i for i in range(0,m+5,5)]\n",
    "\n",
    "n = 500 # no. of train samples\n",
    "n_repetitions = 100\n",
    "use_shared_information = True\n",
    "\n",
    "corrs = {}\n",
    "corrs['v1p1'], corrs['v2p1'] = {}, {}\n",
    "\n",
    "#########################################\n",
    "# Run multiple simulations for each m12 #\n",
    "#########################################\n",
    "for m12 in all_m12s:\n",
    "    print(\"m12={}\".format(m12))\n",
    "    rem_m_size = (m-m12)//3\n",
    "    m1, m2, m3 = rem_m_size, rem_m_size, rem_m_size\n",
    "    m3 += (m-m12)%3\n",
    "    corrs['v1p1'][m12], corrs['v2p1'][m12] = [], []\n",
    "    for i in range(n_repetitions):\n",
    "        ms = [m1, m2, m3, m12]\n",
    "        eps_stds = [eps_std, eps_std, eps_std] # same noise level for all voxels\n",
    "        _, corr_v1p1, corr_v2p1,_,_ = perform_experiment(n, ms, eps_stds, use_shared_information)\n",
    "\n",
    "        corrs['v1p1'][m12].append(corr_v1p1)\n",
    "        corrs['v2p1'][m12].append(corr_v2p1)"
   ]
  },
  {
   "cell_type": "code",
   "execution_count": null,
   "id": "subsequent-digit",
   "metadata": {},
   "outputs": [],
   "source": [
    "ys, ys_std = get_plot_ys(corrs, all_m12s)\n",
    "plt.errorbar([m12/m for m12 in all_m12s], ys['v1p1'], yerr=ys_std['v1p1'], fmt='o', label=\"corrs_v1p1\")\n",
    "plt.errorbar([m12/m for m12 in all_m12s], ys['v2p1'], yerr=ys_std['v2p1'], fmt='o', label=\"corrs_v2p1\")\n",
    "plt.xlabel('proportion of x12 in x')\n",
    "plt.ylabel('corr(prediction, voxel)')\n",
    "plt.ylim([-0.2, 1.2])\n",
    "plt.title('[eps_std={}] same-voxel and cross-voxel predictivity\\nvs.proportion of shared information'.format(eps_std))\n",
    "plt.legend()\n",
    "plt.savefig('spatial_generalization_experiments/plots/predictivity_generalization-vary_m12-all_eps_{}.png'.format(eps_std))"
   ]
  },
  {
   "cell_type": "code",
   "execution_count": null,
   "id": "average-worth",
   "metadata": {},
   "outputs": [],
   "source": [
    "np.save('spatial_generalization_experiments/corrs/predictivity_generalization-vary_m12-all_eps_{}.npy'.format(eps_std), corrs)"
   ]
  },
  {
   "cell_type": "markdown",
   "id": "hundred-screening",
   "metadata": {},
   "source": [
    "# How model performance and generalization vary with voxel-specific noise levels (fixed shared noise level)\n",
    "Predictivity Varies with Noise Levels Per Voxel"
   ]
  },
  {
   "cell_type": "code",
   "execution_count": null,
   "id": "distinguished-insert",
   "metadata": {
    "scrolled": true
   },
   "outputs": [],
   "source": [
    "#######################\n",
    "# Experiment Settings #\n",
    "#######################\n",
    "eps_std12 = 2.0 # NOTE: Chosen randomly. Might be worth experimenting with this.\n",
    "all_m12s = [0, 10, 20, 30]\n",
    "all_eps_stds = [i*0.25 for i in range(21)] # only for eps_std1 and eps_std2\n",
    "\n",
    "n = 500 # no. of train samples\n",
    "m = 40 # total no. of features\n",
    "n_repetitions = 100\n",
    "use_shared_information = True\n",
    "\n",
    "corrs = {}\n",
    "\n",
    "########################################################################\n",
    "# For each m12, run multiple simulations per (eps_std1, eps_std2) pair #\n",
    "########################################################################\n",
    "for m12 in all_m12s:\n",
    "    print(\"m12={}\".format(m12))\n",
    "    rem_m_size = (m-m12)//3\n",
    "    m1, m2, m3 = rem_m_size, rem_m_size, rem_m_size\n",
    "    m3 += (m-m12)%3\n",
    "    corrs[m12] = {}\n",
    "    corrs[m12]['v1v2'], corrs[m12]['v1p1'], corrs[m12]['v2p1'] = {}, {}, {}\n",
    "    \n",
    "    for eps_std1 in all_eps_stds:\n",
    "        s = time.time()\n",
    "        corrs[m12]['v1v2'][eps_std1], corrs[m12]['v1p1'][eps_std1], corrs[m12]['v2p1'][eps_std1] = {}, {}, {}\n",
    "        for eps_std2 in all_eps_stds:\n",
    "            corrs[m12]['v1v2'][eps_std1][eps_std2], corrs[m12]['v1p1'][eps_std1][eps_std2], corrs[m12]['v2p1'][eps_std1][eps_std2] = [], [], []\n",
    "            for i in range(n_repetitions):\n",
    "                ms = [m1, m2, m3, m12]\n",
    "                eps_stds = [eps_std1, eps_std2, eps_std12] # same standard deviation for all voxel noises\n",
    "                corr_v1v2, corr_v1p1, corr_v2p1,_,_ = perform_experiment(n, ms, eps_stds, use_shared_information)\n",
    "\n",
    "                corrs[m12]['v1v2'][eps_std1][eps_std2].append(corr_v1v2)\n",
    "                corrs[m12]['v1p1'][eps_std1][eps_std2].append(corr_v1p1)\n",
    "                corrs[m12]['v2p1'][eps_std1][eps_std2].append(corr_v2p1)\n",
    "        e = time.time()\n",
    "        print(\"Time Taken for eps_std1={}: {}s\".format(eps_std1, e-s))"
   ]
  },
  {
   "cell_type": "code",
   "execution_count": null,
   "id": "engaged-vietnamese",
   "metadata": {
    "scrolled": true
   },
   "outputs": [],
   "source": [
    "fig, axs = plt.subplots(2, 4, figsize=(21,7))\n",
    "for col in range(4):\n",
    "    m12 = all_m12s[col]\n",
    "    # Format data for easy 2D plotting\n",
    "    X, Y, Z_v1v2, Z_p1v2 = np.zeros((21,21)), np.zeros((21,21)), np.zeros((21,21)), np.zeros((21,21))\n",
    "    for i, eps_stdx in enumerate(all_eps_stds):\n",
    "        for j, eps_stdy in enumerate(all_eps_stds):\n",
    "            X[i][j] = eps_stdx\n",
    "            Y[i][j] = eps_stdy\n",
    "            Z_v1v2[i][j] = np.mean(np.array(corrs[m12]['v1v2'][eps_stdx][eps_stdy]))\n",
    "            Z_p1v2[i][j] = np.mean(np.array(corrs[m12]['v2p1'][eps_stdx][eps_stdy]))\n",
    "    # Plot contour plot\n",
    "    ax1 = axs[0][col].contourf(X, Y, Z_v1v2, cmap='RdBu_r', vmin=0, vmax=1, levels=[0.1*i for i in range(11)])\n",
    "    ax2 = axs[1][col].contourf(X, Y, Z_p1v2, cmap='RdGy_r', vmin=0, vmax=1, levels=[0.1*i for i in range(11)])\n",
    "fig.colorbar(ax1, ax=axs[0, :])\n",
    "fig.colorbar(ax2, ax=axs[1, :])\n",
    "\n",
    "ylabels = ['corr(v1,v2)', 'corr(p1,v2)']\n",
    "for i, ax in enumerate(axs.flat):\n",
    "    ax.set(xlabel='m12={}'.format(all_m12s[i%4]), ylabel=ylabels[i//4])\n",
    "        \n",
    "for ax in axs.flat:\n",
    "    ax.label_outer()\n",
    "plt.savefig('spatial_generalization_experiments/plots/predictivity_connectivity-vary_m12-vary_eps1_eps2-eps12_{}.png',format(eps_std12))"
   ]
  },
  {
   "cell_type": "code",
   "execution_count": null,
   "id": "amino-charity",
   "metadata": {},
   "outputs": [],
   "source": [
    "np.save('spatial_generalization_experiments/corrs/predictivity_connectivity-vary_m12-vary_eps1_eps2-eps12_{}.npy'.format(eps_std12), corrs)"
   ]
  },
  {
   "cell_type": "markdown",
   "id": "pleased-clark",
   "metadata": {},
   "source": [
    "# Advantage of inspecting generalization over connectivity+predictivity"
   ]
  },
  {
   "cell_type": "markdown",
   "id": "prime-delicious",
   "metadata": {},
   "source": [
    "### 2.1 Generate voxel data with alpha multiplier \n",
    "(as depicted in slide: https://docs.google.com/presentation/d/1mW-LLlWE9fC4xKQJoPvqNHbixVhwKYs86IIic-Y6W-k/edit#slide=id.gcf5583fd7a_0_45)\n",
    "* <u>NOTE:</u> For all alpha, \n",
    "$$ m_1=m_2=m_3=m_{12}=10 $$\n",
    "$$ \\epsilon_{1}=\\epsilon_{2}=\\epsilon_{12}=1.0 $$"
   ]
  },
  {
   "cell_type": "code",
   "execution_count": 12,
   "id": "color-center",
   "metadata": {},
   "outputs": [],
   "source": [
    "def generate_voxels_with_alpha(n, xs, ws, alpha):\n",
    "    # Initialize noise\n",
    "    eps_std1, eps_std2, eps_std12 = 1.0, 1.0, 1.0 # As mentioned in NOTE above.\n",
    "    eps1 = np.random.normal(loc=0.0, scale=eps_std1, size=(n, 1))\n",
    "    eps2 = np.random.normal(loc=0.0, scale=eps_std2, size=(n, 1))\n",
    "    eps12 = np.random.normal(loc=0.0, scale=eps_std12, size=(n, 1))\n",
    "    \n",
    "    # Generate voxel data\n",
    "    _, x1, x2, _, x12 = xs\n",
    "    w1, w2, w12 = ws\n",
    "    \n",
    "    v12 = np.dot(x12, w12)\n",
    "    v1 = (1-alpha)*zscore(np.dot(x1, w1)) + alpha*zscore(v12) + alpha*eps1 + (1-alpha)*eps12\n",
    "    v2 = (1-alpha)*zscore(np.dot(x2, w2)) + alpha*zscore(v12) + alpha*eps2 + (1-alpha)*eps12\n",
    "    return (v1, v2, v12)"
   ]
  },
  {
   "cell_type": "code",
   "execution_count": 13,
   "id": "monthly-convertible",
   "metadata": {},
   "outputs": [],
   "source": [
    "def perform_experiment_with_alpha(n, alpha):\n",
    "    # Generate features, weights, voxel data\n",
    "    ms = [10, 10, 10, 10] # As mentioned in NOTE above. This is important later to ensure zscore can be done separately.\n",
    "    xs, ws = generate_features_and_weights(n, ms)\n",
    "    vs = generate_voxels_with_alpha(n, xs, ws, alpha)\n",
    "\n",
    "    # Estimate weights using ridge\n",
    "    x = xs[0]\n",
    "    v1, v2 = vs[0], vs[1]\n",
    "    estimated_w1, lambdas1 = cross_val_ridge(x, v1)\n",
    "    estimated_w2, lambdas2 = cross_val_ridge(x, v2)\n",
    "    \n",
    "    # Compute predictions\n",
    "    p1 = np.dot(x, estimated_w1)\n",
    "    p2 = np.dot(x, estimated_w2)\n",
    "                \n",
    "    # Compute relevant correlations\n",
    "    corr_v1v2 = corr(v1, v2)\n",
    "    corr_v1p1 = corr(v1, p1)\n",
    "    corr_v2p1 = corr(v2, p1)\n",
    "    corr_v2p2 = corr(v2, p2)\n",
    "    return corr_v1v2, corr_v1p1, corr_v2p1"
   ]
  },
  {
   "cell_type": "code",
   "execution_count": 14,
   "id": "opening-disease",
   "metadata": {},
   "outputs": [
    {
     "name": "stdout",
     "output_type": "stream",
     "text": [
      "alpha=0.0\n",
      "alpha=0.1\n",
      "alpha=0.2\n",
      "alpha=0.30000000000000004\n",
      "alpha=0.4\n",
      "alpha=0.5\n",
      "alpha=0.6000000000000001\n",
      "alpha=0.7000000000000001\n",
      "alpha=0.8\n",
      "alpha=0.9\n",
      "alpha=1.0\n"
     ]
    }
   ],
   "source": [
    "#######################\n",
    "# Experiment Settings #\n",
    "#######################\n",
    "all_alphas = [0.1*i for i in range(11)]\n",
    "n = 500 # no. of train samples\n",
    "n_repetitions = 100\n",
    "\n",
    "corrs = {}\n",
    "corrs['v1v2'], corrs['v1p1'], corrs['v2p1'] = {}, {}, {}\n",
    "\n",
    "#########################################\n",
    "# Run multiple simulations for each m12 #\n",
    "#########################################\n",
    "for alpha in all_alphas:\n",
    "    print(\"alpha={}\".format(alpha))\n",
    "    corrs['v1v2'][alpha], corrs['v1p1'][alpha], corrs['v2p1'][alpha] = [], [], []\n",
    "    for i in range(n_repetitions):\n",
    "        corr_v1v2, corr_v1p1, corr_v2p1 = perform_experiment_with_alpha(n, alpha)\n",
    "        corrs['v1v2'][alpha].append(corr_v1v2)\n",
    "        corrs['v1p1'][alpha].append(corr_v1p1)\n",
    "        corrs['v2p1'][alpha].append(corr_v2p1)"
   ]
  },
  {
   "cell_type": "code",
   "execution_count": 16,
   "id": "tight-scholar",
   "metadata": {},
   "outputs": [
    {
     "data": {
      "image/png": "[encoded data removed]",
      "text/plain": [
       "<Figure size 432x288 with 1 Axes>"
      ]
     },
     "metadata": {
      "needs_background": "light"
     },
     "output_type": "display_data"
    }
   ],
   "source": [
    "ys, ys_std = get_plot_ys(corrs, all_alphas)\n",
    "plt.errorbar(all_alphas, ys['v1v2'], yerr=ys_std['v1v2'], fmt='o', label=\"corrs_v1v2\")\n",
    "plt.errorbar(all_alphas, ys['v1p1'], yerr=ys_std['v1p1'], fmt='o', label=\"corrs_v1p1\")\n",
    "plt.errorbar(all_alphas, ys['v2p1'], yerr=ys_std['v2p1'], fmt='o', label=\"corrs_v2p1\")\n",
    "plt.xlabel('alpha')\n",
    "plt.ylabel('corr')\n",
    "plt.ylim([-0.2, 1.2])\n",
    "plt.title('Tracking connectivity, predictivity and\\ngeneralization at different alpha levels')\n",
    "plt.legend()\n",
    "plt.savefig('spatial_generalization_experiments/plots/connectivity_predictivity_generalization-vary_alpha-m12_10-all_eps_1.0.png')"
   ]
  },
  {
   "cell_type": "code",
   "execution_count": 17,
   "id": "medium-asian",
   "metadata": {},
   "outputs": [],
   "source": [
    "np.save('spatial_generalization_experiments/corrs/connectivity_predictivity_generalization-vary_alpha-m12_10-all_eps_1.0.npy', corrs)"
   ]
  },
  {
   "cell_type": "markdown",
   "id": "killing-assembly",
   "metadata": {},
   "source": [
    "## 2.2 Formulation with explicit signal-to-noise ratio\n",
    "$$ v_i = \\beta_i (\\alpha(w_{12}x_{12}) + (1-\\alpha)(w_{i}x_{i})) + (1-\\beta_i)(\\alpha(\\epsilon_i) + (1 - \\alpha)(\\epsilon_{12})) $$\n",
    "* <u>NOTE:</u> Again Ffor all alpha, \n",
    "$$ m_1=m_2=m_3=m_{12}=10 $$\n",
    "$$ stddev(\\epsilon_{1})=stddev(\\epsilon_{2})=stddev(\\epsilon_{12})=1.0 $$"
   ]
  },
  {
   "cell_type": "code",
   "execution_count": 7,
   "id": "warming-journal",
   "metadata": {},
   "outputs": [],
   "source": [
    "def generate_voxels_with_alpha_betas(n, xs, ws, alpha, betas):\n",
    "    # Initialize noise\n",
    "    eps_std1, eps_std2, eps_std12 = 1.0, 1.0, 1.0 # As mentioned in NOTE above.\n",
    "    eps1 = np.random.normal(loc=0.0, scale=eps_std1, size=(n, 1))\n",
    "    eps2 = np.random.normal(loc=0.0, scale=eps_std2, size=(n, 1))\n",
    "    eps12 = np.random.normal(loc=0.0, scale=eps_std12, size=(n, 1))\n",
    "    \n",
    "    # Generate voxel data\n",
    "    _, x1, x2, _, x12 = xs\n",
    "    w1, w2, w12 = ws\n",
    "    beta1, beta2 = betas\n",
    "    \n",
    "    v1 = beta1*(alpha*zscore(np.dot(x12,w12)) + (1-alpha)*zscore(np.dot(x1,w1))) + (1-beta1)*(alpha*eps1 + (1-alpha)*eps12)\n",
    "    v2 = beta2*(alpha*zscore(np.dot(x12,w12)) + (1-alpha)*zscore(np.dot(x2,w2))) + (1-beta2)*(alpha*eps2 + (1-alpha)*eps12)\n",
    "    return v1, v2"
   ]
  },
  {
   "cell_type": "code",
   "execution_count": 8,
   "id": "representative-place",
   "metadata": {},
   "outputs": [],
   "source": [
    "def perform_experiment_with_alpha_betas(n, alpha, betas):\n",
    "    # Generate features, weights, voxel data\n",
    "    ms = [10, 10, 10, 10] # As mentioned in NOTE above. This is important later to ensure zscore can be done separately.\n",
    "    xs, ws = generate_features_and_weights(n, ms)\n",
    "    vs = generate_voxels_with_alpha_betas(n, xs, ws, alpha, betas)\n",
    "\n",
    "    # Estimate weights using ridge\n",
    "    x = xs[0]\n",
    "    v1, v2 = vs\n",
    "    estimated_w1, lambdas1 = cross_val_ridge(x, v1)\n",
    "    estimated_w2, lambdas2 = cross_val_ridge(x, v2)\n",
    "    \n",
    "    # Compute predictions\n",
    "    p1 = np.dot(x, estimated_w1)\n",
    "    p2 = np.dot(x, estimated_w2)\n",
    "                \n",
    "    # Compute relevant correlations\n",
    "    corr_v1v2 = corr(v1, v2)\n",
    "    corr_v1p1 = corr(v1, p1)\n",
    "    corr_v2p1 = corr(v2, p1)\n",
    "    corr_v2p2 = corr(v2, p2)\n",
    "    corr_v1p2 = corr(v1, p2)\n",
    "    \n",
    "    return corr_v1v2, corr_v1p1, corr_v2p1, corr_v2p2, corr_v1p2"
   ]
  },
  {
   "cell_type": "code",
   "execution_count": 9,
   "id": "variable-bacteria",
   "metadata": {
    "scrolled": true
   },
   "outputs": [
    {
     "name": "stdout",
     "output_type": "stream",
     "text": [
      "alpha=0.0\n",
      "alpha=0.25\n",
      "alpha=0.5\n",
      "alpha=0.75\n",
      "alpha=1.0\n"
     ]
    }
   ],
   "source": [
    "#######################\n",
    "# Experiment Settings #\n",
    "#######################\n",
    "all_alphas = [0.25*i for i in range(5)]\n",
    "all_betas = [0.2*i for i in range(6)]\n",
    "# all_alphas = [0.1*i for i in range(0, 11, 2)]\n",
    "# all_betas = [0.1*i for i in range(11)]\n",
    "n = 500 # no. of train samples\n",
    "n_repetitions = 100\n",
    "\n",
    "corrs = {}\n",
    "corrs['v1v2'], corrs['v1p1'], corrs['v2p1'], corrs['v2p2'], corrs['v1p2'] = {}, {}, {}, {}, {}\n",
    "\n",
    "#########################################\n",
    "# Run multiple simulations for each m12 #\n",
    "#########################################\n",
    "for alpha in all_alphas:\n",
    "#     alpha_start_time = time.time()\n",
    "    print(\"alpha={}\".format(alpha))\n",
    "    corrs['v1v2'][alpha], corrs['v1p1'][alpha], corrs['v2p1'][alpha], corrs['v2p2'][alpha], corrs['v1p2'][alpha] = {}, {}, {}, {}, {}\n",
    "    for beta1 in all_betas:\n",
    "#         beta1_start_time = time.time()\n",
    "        corrs['v1v2'][alpha][beta1], corrs['v1p1'][alpha][beta1], corrs['v2p1'][alpha][beta1], corrs['v2p2'][alpha][beta1], corrs['v1p2'][alpha][beta1] = {}, {}, {}, {}, {}\n",
    "        for beta2 in all_betas:\n",
    "#             beta2_start_time = time.time()\n",
    "#             print(\"beta1={},beta2={}\".format(beta1,beta2))\n",
    "            corrs['v1v2'][alpha][beta1][beta2], corrs['v1p1'][alpha][beta1][beta2], corrs['v2p1'][alpha][beta1][beta2], corrs['v2p2'][alpha][beta1][beta2], corrs['v1p2'][alpha][beta1][beta2] = [], [], [], [], []\n",
    "            for i in range(n_repetitions):\n",
    "                corr_v1v2, corr_v1p1, corr_v2p1, corr_v2p2, corr_v1p2 = perform_experiment_with_alpha_betas(n, alpha, (beta1,beta2))\n",
    "                corrs['v1v2'][alpha][beta1][beta2].append(corr_v1v2)\n",
    "                corrs['v1p1'][alpha][beta1][beta2].append(corr_v1p1)\n",
    "                corrs['v2p1'][alpha][beta1][beta2].append(corr_v2p1)\n",
    "                corrs['v2p2'][alpha][beta1][beta2].append(corr_v2p2)\n",
    "                corrs['v1p2'][alpha][beta1][beta2].append(corr_v1p2)"
   ]
  },
  {
   "cell_type": "code",
   "execution_count": 20,
   "id": "dramatic-constraint",
   "metadata": {},
   "outputs": [
    {
     "data": {
      "image/png": "[encoded data removed]",
      "text/plain": [
       "<Figure size 2160x1080 with 24 Axes>"
      ]
     },
     "metadata": {
      "needs_background": "light"
     },
     "output_type": "display_data"
    }
   ],
   "source": [
    "fig, axs = plt.subplots(4, 5, figsize=(30,15))\n",
    "for col in range(5):\n",
    "    alpha = all_alphas[col]\n",
    "    # Format data for easy 2D plotting\n",
    "    X, Y, Z_v1v2, Z_v1p1, Z_v2p1, Z_v1p2 = np.zeros((6,6)), np.zeros((6,6)), np.zeros((6,6)), np.zeros((6,6)), np.zeros((6,6)), np.zeros((6,6))\n",
    "    for i, beta1 in enumerate(all_betas):\n",
    "        for j, beta2 in enumerate(all_betas):\n",
    "            X[i][j] = beta1\n",
    "            Y[i][j] = beta2\n",
    "            Z_v1v2[i][j] = np.mean(np.array(corrs['v1v2'][alpha][beta1][beta2]))\n",
    "            Z_v1p1[i][j] = np.mean(np.array(corrs['v1p1'][alpha][beta1][beta2]))\n",
    "            Z_v2p1[i][j] = np.mean(np.array(corrs['v2p1'][alpha][beta1][beta2]))\n",
    "            Z_v1p2[i][j] = np.mean(np.array(corrs['v1p2'][alpha][beta1][beta2]))\n",
    "    # Plot contour plot\n",
    "    ax0 = axs[0][col].contourf(X, Y, Z_v1v2, cmap='RdGy_r', vmin=0, vmax=1, levels=[0.1*i for i in range(11)])\n",
    "    ax1 = axs[1][col].contourf(X, Y, Z_v1p1, cmap='RdGy_r', vmin=0, vmax=1, levels=[0.1*i for i in range(11)])\n",
    "    ax2 = axs[2][col].contourf(X, Y, Z_v2p1, cmap='RdGy_r', vmin=0, vmax=1, levels=[0.1*i for i in range(11)])\n",
    "    ax3 = axs[3][col].contourf(X, Y, Z_v1p2, cmap='RdGy_r', vmin=0, vmax=1, levels=[0.1*i for i in range(11)])\n",
    "fig.colorbar(ax0, ax=axs[0, :])\n",
    "fig.colorbar(ax1, ax=axs[1, :])\n",
    "fig.colorbar(ax2, ax=axs[2, :])\n",
    "fig.colorbar(ax3, ax=axs[3, :])\n",
    "\n",
    "ylabels = ['corr(v1,v2)', 'corr(v1,p1)', 'corr(v2,p1)', 'corr(v1,p2)']\n",
    "for i, ax in enumerate(axs.flat):\n",
    "    ax.set(xlabel='alpha={}'.format(all_alphas[i%5]), ylabel=ylabels[i//5])\n",
    "        \n",
    "for ax in axs.flat:\n",
    "    ax.label_outer()\n",
    "plt.show()"
   ]
  },
  {
   "cell_type": "code",
   "execution_count": 15,
   "id": "assured-worthy",
   "metadata": {},
   "outputs": [
    {
     "data": {
      "text/plain": [
       "-0.0006405186155732543"
      ]
     },
     "execution_count": 15,
     "metadata": {},
     "output_type": "execute_result"
    }
   ],
   "source": [
    "np.mean(np.array(corrs['v1v2'][0.0][1.0][1.0]))"
   ]
  },
  {
   "cell_type": "markdown",
   "id": "played-construction",
   "metadata": {},
   "source": [
    "# Computing \"quantities of interest\" under the original formulation\n",
    "\"quantities of interest\" explained here: https://www.overleaf.com/project/5f3eb62536c7f90001ef3edb"
   ]
  },
  {
   "cell_type": "code",
   "execution_count": null,
   "id": "distinguished-ending",
   "metadata": {},
   "outputs": [],
   "source": [
    "def perform_experiment_and_collect_wnorms(n, ms, eps_stds, use_shared_information):\n",
    "    # Generate features, weights, voxel data\n",
    "    xs, ws = generate_features_and_weights(n, ms)\n",
    "    vs = generate_voxels(n, ms, xs, ws, eps_stds, use_shared_information)\n",
    "\n",
    "    # Estimate weights using ridge\n",
    "    x = xs[0]\n",
    "    v1, v2 = vs[0], vs[1]\n",
    "    estimated_w1, lambdas1 = cross_val_ridge(x, v1)\n",
    "    estimated_w2, lambdas2 = cross_val_ridge(x, v2)\n",
    "    \n",
    "    # Compute predictions\n",
    "    p1 = np.dot(x, estimated_w1)\n",
    "    p2 = np.dot(x, estimated_w2)\n",
    "                \n",
    "    # Compute relevant correlations\n",
    "    corr_v1v2 = corr(v1, v2)\n",
    "    corr_v1p1 = corr(v1, p1)\n",
    "    corr_v2p1 = corr(v2, p1)\n",
    "    corr_v1p2 = corr(v1, p2)\n",
    "    corr_v2p2 = corr(v2, p2)\n",
    "    \n",
    "    # Compute true weight L2 norms\n",
    "    w1_norm_squared = np.linalg.norm(ws[0])\n",
    "    w2_norm_squared = np.linalg.norm(ws[1])\n",
    "    w12_norm_squared = np.linalg.norm(ws[2])\n",
    "    return (corr_v1v2, corr_v1p1, corr_v2p1, corr_v1p2, corr_v2p2), (w1_norm, w2_norm, w12_norm)"
   ]
  },
  {
   "cell_type": "code",
   "execution_count": null,
   "id": "forced-favor",
   "metadata": {},
   "outputs": [],
   "source": [
    "#######################\n",
    "# Experiment Settings #\n",
    "#######################\n",
    "eps_std = 0. # TOGGLE: [0., 1., 2., 3., 4., 5.]\n",
    "m = 40 # total no. of features\n",
    "all_m12s = [i for i in range(0,m+5,5)]\n",
    "\n",
    "n = 400 # no. of train samples (fixed n/p or here, n/m = 10)\n",
    "n_repetitions = 100\n",
    "use_shared_information = True\n",
    "\n",
    "corrs = {}\n",
    "corrs['v1p1'], corrs['v1p1'], corrs['v1p2'] = {}, {}, {}\n",
    "true_wnorms = {}\n",
    "true_wnorms['w1_norm'], true_wnorms['w2_norm'], true_wnorms['w12_norm'] = {}, {}, {}\n",
    "\n",
    "#########################################\n",
    "# Run multiple simulations for each m12 #\n",
    "#########################################\n",
    "for m12 in all_m12s:\n",
    "    print(\"m12={}\".format(m12))\n",
    "    rem_m_size = (m-m12)//3\n",
    "    m1, m2, m3 = rem_m_size, rem_m_size, rem_m_size\n",
    "    m3 += (m-m12)%3\n",
    "    corrs['v1p1'][m12], corrs['v2p1'][m12] = [], []\n",
    "    for i in range(n_repetitions):\n",
    "        ms = [m1, m2, m3, m12]\n",
    "        eps_stds = [eps_std, eps_std, eps_std] # same noise level for all voxels\n",
    "        _, corr_v1p1, corr_v2p1,_,_ = perform_experiment(n, ms, eps_stds, use_shared_information)\n",
    "\n",
    "        corrs['v1p1'][m12].append(corr_v1p1)\n",
    "        corrs['v2p1'][m12].append(corr_v2p1)"
   ]
  },
  {
   "cell_type": "code",
   "execution_count": null,
   "id": "painful-complexity",
   "metadata": {},
   "outputs": [],
   "source": [
    "ys, ys_std = get_plot_ys(corrs, all_m12s)\n",
    "plt.errorbar([m12/m for m12 in all_m12s], ys['v1p1'], yerr=ys_std['v1p1'], fmt='o', label=\"corrs_v1p1\")\n",
    "plt.errorbar([m12/m for m12 in all_m12s], ys['v2p1'], yerr=ys_std['v2p1'], fmt='o', label=\"corrs_v2p1\")\n",
    "plt.xlabel('proportion of x12 in x')\n",
    "plt.ylabel('corr(prediction, voxel)')\n",
    "plt.ylim([-0.2, 1.2])\n",
    "plt.title('[eps_std={}] same-voxel and cross-voxel predictivity\\nvs.proportion of shared information'.format(eps_std))\n",
    "plt.legend()\n",
    "plt.savefig('spatial_generalization_experiments/plots/predictivity_generalization-vary_m12-all_eps_{}.png'.format(eps_std))"
   ]
  },
  {
   "cell_type": "code",
   "execution_count": null,
   "id": "identical-celebration",
   "metadata": {},
   "outputs": [],
   "source": [
    "np.save('spatial_generalization_experiments/corrs/predictivity_generalization-vary_m12-all_eps_{}.npy'.format(eps_std), corrs)"
   ]
  },
  {
   "cell_type": "markdown",
   "id": "postal-transport",
   "metadata": {},
   "source": [
    "# Old Code Segments"
   ]
  },
  {
   "cell_type": "code",
   "execution_count": null,
   "id": "incorrect-mexico",
   "metadata": {},
   "outputs": [],
   "source": [
    "# Plot how corr(v1,p1) as we vary shared noise vs. v1 specific noise \n",
    "#(we expect same effect from both noises for corr(v1,p1) so circular patter makes sense)\n",
    "all_eps_std12s = [0.0, 1.0, 2.0]\n",
    "eps_std1s = [i*0.25 for i in range(21)]\n",
    "\n",
    "X, Y, Z_v1p1 = np.zeros((len(eps_std1s),len(all_eps_std12s))), np.zeros((len(eps_std1s),len(all_eps_std12s))), np.zeros((len(eps_std1s),len(all_eps_std12s)))\n",
    "for j, eps_std12 in enumerate(all_eps_std12s):\n",
    "    corrs = np.load('spatial_generalization_experiments/corrs/predictivity_connectivity-vary_m12-vary_eps1_eps2-eps12_{}.npy'.format(eps_std12), allow_pickle=True).item()\n",
    "    for i, eps_std1 in enumerate(eps_std1s):\n",
    "        X[i][j] = eps_std1\n",
    "        Y[i][j] = eps_std12\n",
    "        Z_v1p1[i][j] = np.mean(np.array(corrs[0]['v1p1'][eps_std1][0.0]))\n",
    "# Plot contour plot\n",
    "plt.contourf(X, Y, Z_v1p1, cmap='PuOr', vmin=0, vmax=1, levels=[0.1*i for i in range(11)])\n",
    "plt.colorbar()\n",
    "plt.ylabel('eps_12 stddev')\n",
    "plt.xlabel('eps_1 stddev')\n",
    "plt.yticks([0.0,1.0,2.0])\n",
    "plt.show()\n",
    "\n",
    "plt.savefig('spatial_generalization_experiments/plots/predictivity-vary_eps1_eps12.png')"
   ]
  },
  {
   "cell_type": "markdown",
   "id": "incredible-premises",
   "metadata": {},
   "source": [
    "## How Predictivity Varies with Noise Levels (No Repetitions)"
   ]
  },
  {
   "cell_type": "code",
   "execution_count": null,
   "id": "liquid-circle",
   "metadata": {},
   "outputs": [],
   "source": [
    "# Generate random features & weights\n",
    "\n",
    "n = 50 # no. of train samples\n",
    "m1, m2, m3, m12 = 10, 10, 10, 10 # no. of features\n",
    "\n",
    "x1 = np.random.multivariate_normal(mean=np.random.rand(m1), cov=toeplitz_cov(m1), size=(n,))\n",
    "x2 = np.random.multivariate_normal(mean=np.random.rand(m2), cov=toeplitz_cov(m2), size=(n,))\n",
    "x3 = np.random.multivariate_normal(mean=np.random.rand(m3), cov=toeplitz_cov(m3), size=(n,))\n",
    "x12 = np.random.multivariate_normal(mean=np.random.rand(m12), cov=toeplitz_cov(m12), size=(n,))\n",
    "x = np.concatenate((x1, x2, x3, x12), axis=1) # x: (n, m1+m2+m3+m12)\n",
    "\n",
    "w1 = np.random.rand(m1, 1)\n",
    "w2 = np.random.rand(m2, 1)\n",
    "w12 = np.random.rand(m12, 1)\n",
    "\n",
    "# Generate voxel data and use ridge for prediction\n",
    "\n",
    "eps_stds = [i*0.05 for i in range(21)]\n",
    "use_eps1, use_eps2, use_eps12 = True, True, True\n",
    "use_shared_information = True\n",
    "\n",
    "corrs_v1p1, corrs_v2p2, corrs_v1p2, corrs_v2p1 = [], [], [], []\n",
    "for eps_std in eps_stds:\n",
    "    # Initialize noise\n",
    "    eps1 = np.random.normal(loc=0.0, scale=eps_std, size=(n, 1)) if use_eps1 else 0\n",
    "    eps2 = np.random.normal(loc=0.0, scale=eps_std, size=(n, 1)) if use_eps2 else 0\n",
    "    eps12 = np.random.normal(loc=0.0, scale=eps_std, size=(n, 1)) if use_eps12 else 0\n",
    "    \n",
    "    # Generate voxel data\n",
    "    if use_shared_information:\n",
    "        v12 = np.dot(x12, w12) + eps12\n",
    "        v1 = np.dot(x1, w1) + v12 + eps1\n",
    "        v2 = np.dot(x2, w2) + v12 + eps2\n",
    "    else:\n",
    "        v12 = np.dot(x12, w12) + eps12\n",
    "        v1 = np.dot(x1, w1) + eps1\n",
    "        v2 = np.dot(x2, w2) + eps2\n",
    "    \n",
    "    # Estimate weights using ridge\n",
    "    estimated_w1, lambdas1 = cross_val_ridge(x, v1)\n",
    "    estimated_w2, lambdas2 = cross_val_ridge(x, v2)\n",
    "    # Compute predictions\n",
    "    p1 = np.dot(x, estimated_w1)\n",
    "    p2 = np.dot(x, estimated_w2)\n",
    "    \n",
    "    # Assess predictions\n",
    "    corr_v1p1 = corr(v1, p1)\n",
    "    corr_v2p2 = corr(v2, p2)\n",
    "    # Assess predictivity across voxels\n",
    "    corr_v1p2 = corr(v1, p2)\n",
    "    corr_v2p1 = corr(v2, p1)\n",
    "    \n",
    "    corrs_v1p1.append(corr_v1p1)\n",
    "    corrs_v2p2.append(corr_v2p2)\n",
    "    corrs_v1p2.append(corr_v1p2)\n",
    "    corrs_v2p1.append(corr_v2p1)# Generate random features & weights"
   ]
  },
  {
   "cell_type": "code",
   "execution_count": null,
   "id": "bacterial-aviation",
   "metadata": {},
   "outputs": [],
   "source": [
    "plt.plot(eps_stds, corrs_v1p1, label=\"corrs_v1p1\")\n",
    "plt.plot(eps_stds, corrs_v2p2, label=\"corrs_v2p2\")\n",
    "plt.plot(eps_stds, corrs_v1p2, label=\"corrs_v1p2\")\n",
    "plt.plot(eps_stds, corrs_v2p1, label=\"corrs_v2p1\")\n",
    "plt.xlabel('noise scales')\n",
    "plt.ylabel('corr(prediction, voxel)')\n",
    "plt.ylim([-0.2, 1.2])\n",
    "plt.title('Assessing same-voxel and cross-voxel predictivity for different noise levels (Without shared information)')\n",
    "plt.legend()\n",
    "plt.figure(figsize=(20,20))\n",
    "plt.show()"
   ]
  },
  {
   "cell_type": "code",
   "execution_count": null,
   "id": "worse-theology",
   "metadata": {},
   "outputs": [],
   "source": [
    "plt.plot(eps_stds, corrs_v1p1, label=\"corrs_v1p1\")\n",
    "plt.plot(eps_stds, corrs_v2p2, label=\"corrs_v2p2\")\n",
    "plt.plot(eps_stds, corrs_v1p2, label=\"corrs_v1p2\")\n",
    "plt.plot(eps_stds, corrs_v2p1, label=\"corrs_v2p1\")\n",
    "plt.xlabel('noise scales')\n",
    "plt.ylabel('corr(prediction, voxel)')\n",
    "plt.ylim([-0.2, 1.2])\n",
    "plt.title('Assessing same-voxel and cross-voxel predictivity for different noise levels (With shared information)')\n",
    "plt.legend()\n",
    "plt.show()"
   ]
  },
  {
   "cell_type": "markdown",
   "id": "bulgarian-quality",
   "metadata": {},
   "source": [
    "## How Predictivity Varies with Proportion of Shared Information (No Repetitions)"
   ]
  },
  {
   "cell_type": "code",
   "execution_count": null,
   "id": "hairy-singing",
   "metadata": {},
   "outputs": [],
   "source": [
    "n = 50 # no. of train samples\n",
    "m = 40 # total no. of features\n",
    "\n",
    "corrs_v1p1, corrs_v2p2, corrs_v1p2, corrs_v2p1 = [], [], [], []\n",
    "m12s = [i for i in range(0,m-5,5)]\n",
    "use_shared_information = True\n",
    "\n",
    "for m12 in m12s:\n",
    "    # Generate random features & weights\n",
    "    \n",
    "    rem_m_size = (m-m12)//3\n",
    "    m1, m2, m3 = rem_m_size, rem_m_size, rem_m_size\n",
    "    m3 += (m-m12)%3\n",
    "\n",
    "    x1 = np.random.multivariate_normal(mean=np.random.rand(m1), cov=toeplitz_cov(m1), size=(n,))\n",
    "    x2 = np.random.multivariate_normal(mean=np.random.rand(m2), cov=toeplitz_cov(m2), size=(n,))\n",
    "    x3 = np.random.multivariate_normal(mean=np.random.rand(m3), cov=toeplitz_cov(m3), size=(n,))\n",
    "    x12 = np.random.multivariate_normal(mean=np.random.rand(m12), cov=toeplitz_cov(m12), size=(n,)) if m12 > 0 else np.array([]).reshape(n,0)\n",
    "    x = np.concatenate((x1, x2, x3, x12), axis=1) # x: (n, m1+m2+m3+m12)\n",
    "\n",
    "    w1 = np.random.rand(m1, 1)\n",
    "    w2 = np.random.rand(m2, 1)\n",
    "    w12 = np.random.rand(m12, 1)\n",
    "\n",
    "    # Generate voxel data and use ridge for prediction\n",
    "    \n",
    "    eps_std = 0.5\n",
    "    # Initialize noise\n",
    "    eps1 = np.random.normal(loc=0.0, scale=eps_std, size=(n, 1))\n",
    "    eps2 = np.random.normal(loc=0.0, scale=eps_std, size=(n, 1))\n",
    "    eps12 = np.random.normal(loc=0.0, scale=eps_std, size=(n, 1))\n",
    "\n",
    "    # Generate voxel data\n",
    "    if use_shared_information:\n",
    "        v12 = np.dot(x12, w12) + eps12\n",
    "        v1 = np.dot(x1, w1) + v12 + eps1\n",
    "        v2 = np.dot(x2, w2) + v12 + eps2\n",
    "    else:\n",
    "        v12 = np.dot(x12, w12) + eps12\n",
    "        v1 = np.dot(x1, w1) + eps1\n",
    "        v2 = np.dot(x2, w2) + eps2\n",
    "\n",
    "    # Estimate weights using ridge\n",
    "    estimated_w1, lambdas1 = cross_val_ridge(x, v1)\n",
    "    estimated_w2, lambdas2 = cross_val_ridge(x, v2)\n",
    "    # Compute predictions\n",
    "    p1 = np.dot(x, estimated_w1)\n",
    "    p2 = np.dot(x, estimated_w2)\n",
    "\n",
    "    # Assess predictions\n",
    "    corr_v1p1 = corr(v1, p1)\n",
    "    corr_v2p2 = corr(v2, p2)\n",
    "    # Assess predictivity across voxels\n",
    "    corr_v1p2 = corr(v1, p2)\n",
    "    corr_v2p1 = corr(v2, p1)\n",
    "\n",
    "    corrs_v1p1.append(corr_v1p1)\n",
    "    corrs_v2p2.append(corr_v2p2)\n",
    "    corrs_v1p2.append(corr_v1p2)\n",
    "    corrs_v2p1.append(corr_v2p1)"
   ]
  },
  {
   "cell_type": "code",
   "execution_count": null,
   "id": "foreign-crossing",
   "metadata": {},
   "outputs": [],
   "source": [
    "plt.plot([m12/m for m12 in m12s], corrs_v1p1, label=\"corrs_v1p1\")\n",
    "plt.plot([m12/m for m12 in m12s], corrs_v2p2, label=\"corrs_v2p2\")\n",
    "plt.plot([m12/m for m12 in m12s], corrs_v1p2, label=\"corrs_v1p2\")\n",
    "plt.plot([m12/m for m12 in m12s], corrs_v2p1, label=\"corrs_v2p1\")\n",
    "plt.xlabel('proportion of m12/m in x')\n",
    "plt.ylabel('corr(prediction, voxel)')\n",
    "plt.ylim([-0.2, 1.2])\n",
    "plt.title('Assessing same-voxel and cross-voxel predictivity for\\ndifferent proportions of shared information')\n",
    "plt.legend()\n",
    "plt.show()"
   ]
  }
 ],
 "metadata": {
  "kernelspec": {
   "display_name": "pytorch_macos",
   "language": "python",
   "name": "pytorch_macos"
  },
  "language_info": {
   "codemirror_mode": {
    "name": "ipython",
    "version": 3
   },
   "file_extension": ".py",
   "mimetype": "text/x-python",
   "name": "python",
   "nbconvert_exporter": "python",
   "pygments_lexer": "ipython3",
   "version": "3.8.8"
  }
 },
 "nbformat": 4,
 "nbformat_minor": 5
}
